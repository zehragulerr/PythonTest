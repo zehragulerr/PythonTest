{
 "cells": [
  {
   "cell_type": "code",
   "execution_count": null,
   "metadata": {},
   "outputs": [],
   "source": [
    "# staged : Bir dosyayı stage’lemek, o dosyayı bir sonraki “commit”‘e hazırlamak demektir.\n",
    "# modified : dosyalarımız git’e eklendikten sonra üzerinde değişiklikler yaptığımız ve daha sonra tekrar git’e eklemediğimiz dosyalarımızdır.\n",
    "# unmodified : Bu dosyalarımız da en az bir kez commit edildikten sonra bir daha değişikliğe uğramamış dosyalarımızdır.\n",
    "\n",
    "#git add . tüm dosyaları ekleme\n",
    "#git add file_name sadece belirli dosyayı ekleme"
   ]
  },
  {
   "cell_type": "markdown",
   "metadata": {},
   "source": [
    "deneme"
   ]
  },
  {
   "cell_type": "code",
   "execution_count": null,
   "metadata": {},
   "outputs": [],
   "source": [
    "print(\"hello world\")"
   ]
  }
 ],
 "metadata": {
  "kernelspec": {
   "display_name": "Python 3.6.4 64-bit",
   "language": "python",
   "name": "python3"
  },
  "language_info": {
   "name": "python",
   "version": "3.6.4"
  },
  "orig_nbformat": 4,
  "vscode": {
   "interpreter": {
    "hash": "ae9660db38ac8643b5abe3ade23e36bb7e77026bbf1f37e511afc8ce3b66621b"
   }
  }
 },
 "nbformat": 4,
 "nbformat_minor": 2
}
